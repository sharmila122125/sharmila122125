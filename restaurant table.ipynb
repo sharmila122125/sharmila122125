{
 "cells": [
  {
   "cell_type": "code",
   "execution_count": 7,
   "id": "11d05871-61b7-4821-8478-55da17c44653",
   "metadata": {},
   "outputs": [
    {
     "name": "stdout",
     "output_type": "stream",
     "text": [
      "    restaurant_id                         name cuisine_type  \\\n",
      "0              28  Brown, Williams and Griffin       Indian   \n",
      "1              88  Camacho, Davis and Erickson      Mexican   \n",
      "2              16  Patrick, Frank and Griffith      Mexican   \n",
      "3              57              Russell-Johnson      Italian   \n",
      "4               5                  Vincent LLC      Chinese   \n",
      "..            ...                          ...          ...   \n",
      "95              7            Williamson-Molina      Chinese   \n",
      "96             23                   Juarez Ltd      Mexican   \n",
      "97             20                   Torres Ltd     American   \n",
      "98             49                     Cook Inc     American   \n",
      "99              3                  Riley-Moore      Mexican   \n",
      "\n",
      "                            location        owner_name  average_delivery_time  \\\n",
      "0   496 Christopher Brooks Suite 151    Joseph Hubbard                     34   \n",
      "1    0482 Gordon Stravenue Suite 541  Alexander Nguyen                     31   \n",
      "2        1966 Bryant Creek Suite 139       Frank Huynh                     30   \n",
      "3                 PSC 9053, Box 7429      Vicki Vargas                     16   \n",
      "4                           USS Carr     Daniel George                     16   \n",
      "..                               ...               ...                    ...   \n",
      "95                  273 Chapman Loaf      Keith Norman                     28   \n",
      "96     0679 William Islands Apt. 158      Amber Wilson                     25   \n",
      "97   40421 Burton Stravenue Apt. 824       John Ortega                     22   \n",
      "98                7502 Torres Garden  Christine Guerra                     23   \n",
      "99        597 Martin Forks Suite 576  Zachary Johnston                     35   \n",
      "\n",
      "       contact_number  rating  total_orders  \n",
      "0          9269587909       5           956  \n",
      "1        396-693-6037       6           650  \n",
      "2        712-907-2090       5           144  \n",
      "3    709.699.0070x263       9           388  \n",
      "4        658.616.3312       9           876  \n",
      "..                ...     ...           ...  \n",
      "95      (957)878-3859       2           353  \n",
      "96      (618)235-8701       3           601  \n",
      "97         5798015906       1           813  \n",
      "98  (469)708-0350x469       1           772  \n",
      "99       385.352.3750       9          1000  \n",
      "\n",
      "[100 rows x 9 columns]\n"
     ]
    }
   ],
   "source": [
    "from faker import Faker\n",
    "import pandas as pd\n",
    "\n",
    "# Create a Faker object\n",
    "fake = Faker()\n",
    "\n",
    "# Define the number of restaurants to generate\n",
    "num_restaurants = 100\n",
    "\n",
    "# Create a list to store restaurant data\n",
    "restaurants_data = []\n",
    "\n",
    "# Generate restaurant data\n",
    "for _ in range(num_restaurants):\n",
    "    restaurant = {\n",
    "        \"restaurant_id\": fake.random_int(min=1, max=num_restaurants),\n",
    "        \"name\": fake.company(),\n",
    "        \"cuisine_type\": fake.random_element(elements=[\"Indian\", \"Chinese\", \"Italian\", \"Mexican\", \"American\"]),\n",
    "        \"location\": fake.address().split(\"\\n\")[0],  # Get only the street address\n",
    "        \"owner_name\": fake.name(),\n",
    "        \"average_delivery_time\": fake.random_int(min=15, max=60),\n",
    "        \"contact_number\": fake.phone_number(),\n",
    "        \"rating\": round(fake.random_number(1), 1),  # Remove nb_digits\n",
    "        \"total_orders\": fake.random_int(min=100, max=1000)\n",
    "    }\n",
    "    restaurants_data.append(restaurant)\n",
    "\n",
    "# Create a Pandas DataFrame\n",
    "restaurants_df = pd.DataFrame(restaurants_data)\n",
    "\n",
    "# Print the DataFrame\n",
    "print(restaurants_df)\n",
    "\n",
    "# Save the DataFrame to a CSV file\n",
    "restaurants_df.to_csv(\"restaurants.csv\", index=False)"
   ]
  },
  {
   "cell_type": "code",
   "execution_count": null,
   "id": "b126fb66-844d-4996-8f43-35fca4b1d5ca",
   "metadata": {},
   "outputs": [],
   "source": []
  }
 ],
 "metadata": {
  "kernelspec": {
   "display_name": "Python 3 (ipykernel)",
   "language": "python",
   "name": "python3"
  },
  "language_info": {
   "codemirror_mode": {
    "name": "ipython",
    "version": 3
   },
   "file_extension": ".py",
   "mimetype": "text/x-python",
   "name": "python",
   "nbconvert_exporter": "python",
   "pygments_lexer": "ipython3",
   "version": "3.12.4"
  }
 },
 "nbformat": 4,
 "nbformat_minor": 5
}
