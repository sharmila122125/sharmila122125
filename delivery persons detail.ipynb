{
 "cells": [
  {
   "cell_type": "code",
   "execution_count": 5,
   "id": "a8b85264-afca-4790-a234-62c1597f5dee",
   "metadata": {},
   "outputs": [
    {
     "name": "stdout",
     "output_type": "stream",
     "text": [
      "    delivery_person_id            name       contact_number vehicle_type  \\\n",
      "0                    1   Heidi Mcclain   545.762.2934x79143      Scooter   \n",
      "1                    2   Brian Johnson     618.468.0903x143          Car   \n",
      "2                    3  Amanda Ramirez        (509)898-5781      Scooter   \n",
      "3                    4    Ashley Banks        (845)875-6593          Car   \n",
      "4                    5  Joanna Pacheco   (654)877-1250x8237         Bike   \n",
      "..                 ...             ...                  ...          ...   \n",
      "95                  96     Sarah Myers     514-410-5595x460         Bike   \n",
      "96                  97   Brittany King   568.333.2806x01372         Bike   \n",
      "97                  98   Sabrina Kelly  (841)964-7079x29346         Bike   \n",
      "98                  99    Jason Steele         679.838.2774         Bike   \n",
      "99                 100     Daniel King         530.432.1214         Bike   \n",
      "\n",
      "    total_deliveries  average_rating                         location  \n",
      "0                433              35          707 Owens View Apt. 795  \n",
      "1                432              81                   421 Glass Mill  \n",
      "2                252              84               51061 Sierra Wells  \n",
      "3                403              87  2638 Melanie Stravenue Apt. 505  \n",
      "4                263              12     5902 Caroline Wall Suite 627  \n",
      "..               ...             ...                              ...  \n",
      "95               353               6           182 Larry Way Apt. 028  \n",
      "96               401              49   28352 Samantha Lakes Suite 278  \n",
      "97               446              78      68508 Lee Orchard Suite 259  \n",
      "98               155              48            4552 Blackburn Unions  \n",
      "99               289              15             6490 Kathleen Ridges  \n",
      "\n",
      "[100 rows x 7 columns]\n"
     ]
    }
   ],
   "source": [
    "from faker import Faker\n",
    "import pandas as pd\n",
    "\n",
    "fake = Faker()\n",
    "\n",
    "def generate_delivery_person_data(num_delivery_persons):\n",
    "    \"\"\"\n",
    "    Generates sample data for a delivery persons table using Faker.\n",
    "\n",
    "    Args:\n",
    "        num_delivery_persons: The number of delivery persons to generate.\n",
    "\n",
    "    Returns:\n",
    "        A pandas DataFrame containing the generated delivery person data.\n",
    "    \"\"\"\n",
    "\n",
    "    data = []\n",
    "    for i in range(num_delivery_persons):\n",
    "        delivery_person = {\n",
    "            \"delivery_person_id\": i + 1,\n",
    "            \"name\": fake.name(),\n",
    "            \"contact_number\": fake.phone_number(),\n",
    "            \"vehicle_type\": fake.random_element([\"Bike\", \"Car\", \"Scooter\"]),\n",
    "            \"total_deliveries\": fake.random_int(min=10, max=500),\n",
    "            \"average_rating\": round(fake.random_number(digits=2), 1),\n",
    "            \"location\": fake.address().split(\"\\n\")[0]  # Get only the street address\n",
    "        }\n",
    "        data.append(delivery_person)\n",
    "\n",
    "    return pd.DataFrame(data)\n",
    "\n",
    "# Generate sample data (e.g., 100 delivery persons)\n",
    "num_delivery_persons = 100\n",
    "delivery_persons_df = generate_delivery_person_data(num_delivery_persons)\n",
    "\n",
    "print(delivery_persons_df)\n",
    "\n",
    "delivery_persons_df.to_csv(\"delivery_persons.csv\", index=False)\n"
   ]
  },
  {
   "cell_type": "code",
   "execution_count": null,
   "id": "70d54b99-694f-49d6-9aa9-b21298a0313b",
   "metadata": {},
   "outputs": [],
   "source": []
  }
 ],
 "metadata": {
  "kernelspec": {
   "display_name": "Python 3 (ipykernel)",
   "language": "python",
   "name": "python3"
  },
  "language_info": {
   "codemirror_mode": {
    "name": "ipython",
    "version": 3
   },
   "file_extension": ".py",
   "mimetype": "text/x-python",
   "name": "python",
   "nbconvert_exporter": "python",
   "pygments_lexer": "ipython3",
   "version": "3.12.4"
  }
 },
 "nbformat": 4,
 "nbformat_minor": 5
}
