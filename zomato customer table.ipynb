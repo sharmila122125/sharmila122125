{
 "cells": [
  {
   "cell_type": "code",
   "execution_count": 2,
   "id": "c910bc9d-c2f8-45c0-af40-7d13d9d05bbe",
   "metadata": {},
   "outputs": [
    {
     "name": "stdout",
     "output_type": "stream",
     "text": [
      "    customer_id                name                        email  \\\n",
      "0           134         Justin Reid    melindafrench@example.net   \n",
      "1           970        April Powers        melissa18@example.net   \n",
      "2           509       Kristin Smith     andersontodd@example.com   \n",
      "3           454    Jordan Hernandez     cantucrystal@example.net   \n",
      "4           912  Christopher Thomas          david83@example.com   \n",
      "..          ...                 ...                          ...   \n",
      "95          999          James Ross  ramseychristian@example.com   \n",
      "96          726    Michael Ferguson           smejia@example.org   \n",
      "97          998       Sean Martinez      austinhicks@example.net   \n",
      "98          635           Sarah May           adavis@example.com   \n",
      "99          844     Michael Johnson      butlersusan@example.com   \n",
      "\n",
      "                     phone                                           location  \\\n",
      "0    001-715-711-8087x4984         4903 Williams Mount\\nEast Joseph, NY 78328   \n",
      "1       509.807.6064x40867           51761 Burns Ports\\nMarychester, NH 76089   \n",
      "2    +1-432-462-5739x09577             3633 Rosario Way\\nCooperport, WA 58948   \n",
      "3    001-933-859-0348x2154  667 Kathleen Groves Suite 630\\nPaulmouth, WI 1...   \n",
      "4     001-709-669-7523x725   60798 Jay Ranch Suite 251\\nCamerontown, NY 63524   \n",
      "..                     ...                                                ...   \n",
      "95  001-434-721-7618x35123            70786 Rowe Park\\nBrownborough, OR 04755   \n",
      "96     +1-795-498-9211x634  83259 Foster Courts Suite 331\\nAlexanderville,...   \n",
      "97       303-699-0067x0815        925 Wu Burg Apt. 402\\nLake Austin, KS 27852   \n",
      "98           (652)253-1204  04710 Brittney Oval Suite 132\\nJohnsonfurt, KS...   \n",
      "99            624-299-2216  956 Debra Mount Suite 235\\nLake Kristen, MI 70318   \n",
      "\n",
      "   signup_date  is_premium preferred_cuisine  total_orders  average_rating  \n",
      "0   2024-11-02       False           Chinese            11             1.4  \n",
      "1   2024-09-12        True           Chinese            34             2.2  \n",
      "2   2024-06-10        True            Indian            30             3.3  \n",
      "3   2024-05-24        True           Italian            38             3.6  \n",
      "4   2024-09-01       False            Indian            18             4.3  \n",
      "..         ...         ...               ...           ...             ...  \n",
      "95  2024-04-05       False           Chinese            33             1.5  \n",
      "96  2024-10-27        True           Italian            15             3.8  \n",
      "97  2024-06-21       False              Thai            45             3.6  \n",
      "98  2024-11-08       False           Mexican             3             2.2  \n",
      "99  2024-08-08       False            Indian            33             2.8  \n",
      "\n",
      "[100 rows x 10 columns]\n"
     ]
    }
   ],
   "source": [
    "from faker import Faker\n",
    "import pandas as pd\n",
    "\n",
    "# Create a Faker object\n",
    "fake = Faker()\n",
    "\n",
    "# Define the number of customers\n",
    "num_customers = 100\n",
    "\n",
    "# Create a list to store customer data\n",
    "customers = []\n",
    "\n",
    "for _ in range(num_customers):\n",
    "    customer = {\n",
    "        \"customer_id\": fake.unique.random_int(min=1, max=1000),\n",
    "        \"name\": fake.name(),\n",
    "        \"email\": fake.email(),\n",
    "        \"phone\": fake.phone_number(),\n",
    "        \"location\": fake.address(),\n",
    "        \"signup_date\": fake.date_between(start_date=\"-1y\", end_date=\"today\"),\n",
    "        \"is_premium\": fake.boolean(),\n",
    "        \"preferred_cuisine\": fake.random_element((\"Indian\", \"Chinese\", \"Italian\", \"Mexican\", \"Thai\")),\n",
    "        \"total_orders\": fake.random_int(min=0, max=50),\n",
    "        \"average_rating\": round(fake.random.uniform(1, 5), 1)  # Corrected line\n",
    "    }\n",
    "    customers.append(customer)\n",
    "\n",
    "# Create a DataFrame from the list of customers\n",
    "df_customers = pd.DataFrame(customers)\n",
    "\n",
    "# Print the DataFrame\n",
    "print(df_customers)\n",
    "\n",
    "# Save the DataFrame to a CSV file\n",
    "df_customers.to_csv(\"customers.csv\", index=False)"
   ]
  },
  {
   "cell_type": "code",
   "execution_count": null,
   "id": "7b64e26f-c3a5-489d-a9f8-e3adcaae8324",
   "metadata": {},
   "outputs": [],
   "source": []
  },
  {
   "cell_type": "code",
   "execution_count": null,
   "id": "93c69d88-ba91-4112-9536-23e509daf2fe",
   "metadata": {},
   "outputs": [],
   "source": []
  }
 ],
 "metadata": {
  "kernelspec": {
   "display_name": "Python 3 (ipykernel)",
   "language": "python",
   "name": "python3"
  },
  "language_info": {
   "codemirror_mode": {
    "name": "ipython",
    "version": 3
   },
   "file_extension": ".py",
   "mimetype": "text/x-python",
   "name": "python",
   "nbconvert_exporter": "python",
   "pygments_lexer": "ipython3",
   "version": "3.12.4"
  }
 },
 "nbformat": 4,
 "nbformat_minor": 5
}
