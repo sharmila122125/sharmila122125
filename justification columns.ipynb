{
 "cells": [
  {
   "cell_type": "code",
   "execution_count": 1,
   "id": "52349bad-f745-4ddb-8373-4778e9efa4d3",
   "metadata": {},
   "outputs": [
    {
     "name": "stdout",
     "output_type": "stream",
     "text": [
      "   justification_id      column_name  \\\n",
      "0                 1   average_rating   \n",
      "1                 2  delivery_status   \n",
      "2                 3  delivery_status   \n",
      "3                 4     order_status   \n",
      "4                 5     order_status   \n",
      "5                 6     order_status   \n",
      "6                 7     order_status   \n",
      "7                 8  delivery_status   \n",
      "8                 9   average_rating   \n",
      "9                10  delivery_status   \n",
      "\n",
      "                                  justification_text  \n",
      "0  Successful large clearly suggest out as. Happe...  \n",
      "1  Reflect these bar crime. Several fund explain ...  \n",
      "2  Civil in pressure unit. Carry able become much...  \n",
      "3  Company manage because recent. Where father we...  \n",
      "4  Pattern imagine suggest successful already und...  \n",
      "5  Nothing art cause list blue article. Whatever ...  \n",
      "6  Friend expect suggest meeting some course. Dro...  \n",
      "7  Half seem former place attention election. He ...  \n",
      "8  Way feeling interest ready thousand bed. Reaso...  \n",
      "9  Large compare she activity miss allow. Window ...  \n"
     ]
    }
   ],
   "source": [
    "from faker import Faker\n",
    "import pandas as pd\n",
    "\n",
    "fake = Faker()\n",
    "\n",
    "def generate_justification_data(num_justifications):\n",
    "    \"\"\"\n",
    "    Generates sample data for justification columns using Faker.\n",
    "\n",
    "    Args:\n",
    "        num_justifications: The number of justifications to generate.\n",
    "\n",
    "    Returns:\n",
    "        A pandas DataFrame containing the generated justification data.\n",
    "    \"\"\"\n",
    "\n",
    "    data = []\n",
    "    for i in range(num_justifications):\n",
    "        justification = {\n",
    "            \"justification_id\": i + 1,\n",
    "            \"column_name\": fake.random_element([\"order_status\", \"delivery_status\", \"average_rating\"]),\n",
    "            \"justification_text\": fake.text(max_nb_chars=100)\n",
    "        }\n",
    "        data.append(justification)\n",
    "\n",
    "    return pd.DataFrame(data)\n",
    "\n",
    "# Generate sample data (e.g., 10 justifications)\n",
    "num_justifications = 10\n",
    "justifications_df = generate_justification_data(num_justifications)\n",
    "\n",
    "print(justifications_df)\n",
    "justifications_df.to_csv(\"justifications.csv\", index=False)\n"
   ]
  },
  {
   "cell_type": "code",
   "execution_count": null,
   "id": "dd55603a-589b-4a9c-813b-db6f7fe41031",
   "metadata": {},
   "outputs": [],
   "source": []
  }
 ],
 "metadata": {
  "kernelspec": {
   "display_name": "Python 3 (ipykernel)",
   "language": "python",
   "name": "python3"
  },
  "language_info": {
   "codemirror_mode": {
    "name": "ipython",
    "version": 3
   },
   "file_extension": ".py",
   "mimetype": "text/x-python",
   "name": "python",
   "nbconvert_exporter": "python",
   "pygments_lexer": "ipython3",
   "version": "3.12.4"
  }
 },
 "nbformat": 4,
 "nbformat_minor": 5
}
