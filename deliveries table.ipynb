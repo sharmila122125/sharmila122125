{
 "cells": [
  {
   "cell_type": "code",
   "execution_count": 11,
   "id": "503e2efc-2970-4865-8fcf-305296f45ba5",
   "metadata": {},
   "outputs": [
    {
     "name": "stdout",
     "output_type": "stream",
     "text": [
      "    delivery_id  order_id  delivery_person_id delivery_status  distance  \\\n",
      "0             1        52                   1       Delivered        11   \n",
      "1             2         8                  14       Delivered        44   \n",
      "2             3        83                  42       Delivered        16   \n",
      "3             4        82                  74      On the way        99   \n",
      "4             5        79                  48       Delivered        97   \n",
      "..          ...       ...                 ...             ...       ...   \n",
      "95           96        75                  63       Delivered         1   \n",
      "96           97        57                  42       Delivered        41   \n",
      "97           98        58                  24       Delivered        52   \n",
      "98           99         5                   4       Delivered        75   \n",
      "99          100        28                  79       Delivered        75   \n",
      "\n",
      "    delivery_time  estimated_time  delivery_fee vehicle_type  \n",
      "0              20              49            89          Car  \n",
      "1              17              36            65      Scooter  \n",
      "2              51              19            69      Scooter  \n",
      "3              59              10            73          Car  \n",
      "4              16              34            64         Bike  \n",
      "..            ...             ...           ...          ...  \n",
      "95             16              10            95      Scooter  \n",
      "96             51              41            19         Bike  \n",
      "97             41              28            53      Scooter  \n",
      "98             26              46            81      Scooter  \n",
      "99             46              52            38         Bike  \n",
      "\n",
      "[100 rows x 9 columns]\n"
     ]
    }
   ],
   "source": [
    "from faker import Faker\n",
    "import pandas as pd\n",
    "\n",
    "fake = Faker()\n",
    "\n",
    "def generate_delivery_data(num_deliveries):\n",
    "    \"\"\"\n",
    "    Generates sample data for a deliveries table using Faker.\n",
    "\n",
    "    Args:\n",
    "        num_deliveries: The number of deliveries to generate.\n",
    "\n",
    "    Returns:\n",
    "        A pandas DataFrame containing the generated delivery data.\n",
    "    \"\"\"\n",
    "\n",
    "    data = []\n",
    "    for i in range(num_deliveries):\n",
    "        delivery = {\n",
    "            \"delivery_id\": i + 1,\n",
    "            \"order_id\": fake.random_int(min=1, max=100),  \n",
    "            \"delivery_person_id\": fake.random_int(min=1, max=100), \n",
    "            \"delivery_status\": fake.random_element([\"On the way\", \"Delivered\"]),\n",
    "            \"distance\": round(fake.random_number(digits=2), 2),\n",
    "            \"delivery_time\": fake.random_int(min=5, max=60),\n",
    "            \"estimated_time\": fake.random_int(min=5, max=60),\n",
    "            \"delivery_fee\": round(fake.random_number(digits=2), 2),\n",
    "            \"vehicle_type\": fake.random_element([\"Bike\", \"Car\", \"Scooter\"])\n",
    "        }\n",
    "        data.append(delivery)\n",
    "\n",
    "    return pd.DataFrame(data)\n",
    "\n",
    "# Generate sample data\n",
    "\n",
    "num_deliveries = 100  \n",
    "deliveries_df = generate_delivery_data(num_deliveries)\n",
    "\n",
    "print(deliveries_df)\n",
    "\n",
    "deliveries_df.to_csv(\"deliveries_table.csv\", index=False)"
   ]
  },
  {
   "cell_type": "code",
   "execution_count": null,
   "id": "9bcc5811-e97c-4e1f-b6bf-d6c51b184135",
   "metadata": {},
   "outputs": [],
   "source": []
  },
  {
   "cell_type": "code",
   "execution_count": null,
   "id": "84189736-9f84-433d-9763-725b5029699f",
   "metadata": {},
   "outputs": [],
   "source": []
  },
  {
   "cell_type": "code",
   "execution_count": null,
   "id": "0a180470-4191-4510-b08e-4eeda2e95989",
   "metadata": {},
   "outputs": [],
   "source": []
  }
 ],
 "metadata": {
  "kernelspec": {
   "display_name": "Python 3 (ipykernel)",
   "language": "python",
   "name": "python3"
  },
  "language_info": {
   "codemirror_mode": {
    "name": "ipython",
    "version": 3
   },
   "file_extension": ".py",
   "mimetype": "text/x-python",
   "name": "python",
   "nbconvert_exporter": "python",
   "pygments_lexer": "ipython3",
   "version": "3.12.4"
  }
 },
 "nbformat": 4,
 "nbformat_minor": 5
}
